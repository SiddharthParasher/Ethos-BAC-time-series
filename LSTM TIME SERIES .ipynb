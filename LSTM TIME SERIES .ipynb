{
 "cells": [
  {
   "cell_type": "code",
   "execution_count": 3,
   "id": "ce265bbc",
   "metadata": {},
   "outputs": [],
   "source": [
    "import numpy as np\n",
    "import pandas as pd\n",
    "from sklearn.preprocessing import StandardScaler, LabelEncoder, OneHotEncoder\n",
    "from sklearn.metrics import mean_squared_error\n",
    "from sklearn.model_selection import train_test_split\n",
    "from tensorflow.keras.models import Sequential\n",
    "from tensorflow.keras.layers import LSTM, Dense, Dropout"
   ]
  },
  {
   "cell_type": "code",
   "execution_count": 4,
   "id": "b2fa429d",
   "metadata": {},
   "outputs": [],
   "source": [
    "dataset_path = 'newoutput1.csv'\n",
    "df = pd.read_csv(dataset_path)\n",
    "\n",
    "missing_values = df.isnull().sum()\n",
    "df.fillna(df.mean(numeric_only=True), inplace=True)"
   ]
  },
  {
   "cell_type": "code",
   "execution_count": 5,
   "id": "ef42fd34",
   "metadata": {},
   "outputs": [
    {
     "name": "stderr",
     "output_type": "stream",
     "text": [
      "/Users/siddharthparasher/anaconda3/lib/python3.11/site-packages/sklearn/preprocessing/_encoders.py:972: FutureWarning: `sparse` was renamed to `sparse_output` in version 1.2 and will be removed in 1.4. `sparse_output` is ignored unless you leave `sparse` to its default value.\n",
      "  warnings.warn(\n"
     ]
    }
   ],
   "source": [
    "label_encoder = LabelEncoder()\n",
    "df['Ethnicity'] = label_encoder.fit_transform(df['Ethnicity'])\n",
    "encoder = OneHotEncoder(sparse=False)\n",
    "ethnicity_encoded = encoder.fit_transform(df[['Ethnicity']])\n",
    "ethnicity_encoded_df = pd.DataFrame(ethnicity_encoded, columns=[f'Ethnicity_{i}' for i in range(ethnicity_encoded.shape[1])])\n",
    "df = pd.concat([df, ethnicity_encoded_df], axis=1)"
   ]
  },
  {
   "cell_type": "code",
   "execution_count": 6,
   "id": "5d900676",
   "metadata": {},
   "outputs": [],
   "source": [
    "def time_to_minutes(time_str):\n",
    "    try:\n",
    "        hours, minutes = map(int, str(time_str).split(':'))\n",
    "        return hours * 60 + minutes\n",
    "    except:\n",
    "        return 0"
   ]
  },
  {
   "cell_type": "code",
   "execution_count": 7,
   "id": "15cb8151",
   "metadata": {},
   "outputs": [],
   "source": [
    "df['Drink Start Time'] = df['Drink Start Time'].apply(time_to_minutes)\n",
    "\n",
    "df['BMI'] = (df['Weight (lbs)'] / ((df['Height (ft)'] * 12) + df['Height (in)']) ** 2) * 703\n",
    "\n",
    "drink_start_time = df['Drink Start Time']\n",
    "\n",
    "selected_features = df[['nth drink', '# of standard drinks', 'Alcohol Content (g)', 'Time since drink (min)',\n",
    "                        'Height (ft)', 'Height (in)', 'Weight (lbs)', 'BMI', 'Empty Stomach?', 'Age', 'Sex', 'Ethnicity_0', 'Ethnicity_1', 'Ethnicity_2']]"
   ]
  },
  {
   "cell_type": "code",
   "execution_count": 8,
   "id": "6f63d17d",
   "metadata": {},
   "outputs": [],
   "source": [
    "numeric_features = selected_features.select_dtypes(include=[np.number])\n",
    "numeric_feature_names = numeric_features.columns.tolist()\n",
    "\n",
    "scaler = StandardScaler()\n",
    "numeric_features = scaler.fit_transform(numeric_features)\n",
    "\n",
    "numeric_features_df = pd.DataFrame(numeric_features, columns=numeric_feature_names)\n",
    "\n",
    "features = pd.concat([numeric_features_df, drink_start_time], axis=1)"
   ]
  },
  {
   "cell_type": "code",
   "execution_count": 9,
   "id": "1455017b",
   "metadata": {},
   "outputs": [],
   "source": [
    "def create_sequences(data, sequence_length):\n",
    "    sequences = []\n",
    "    target = []\n",
    "    for i in range(len(data) - sequence_length):\n",
    "        sequences.append(data[i:i+sequence_length])\n",
    "        target.append(data[i+sequence_length])\n",
    "    return np.array(sequences), np.array(target)"
   ]
  },
  {
   "cell_type": "code",
   "execution_count": 10,
   "id": "f98d2077",
   "metadata": {},
   "outputs": [],
   "source": [
    "sequence_length = 10\n",
    "X, y = create_sequences(df['Measured BAC'].values, sequence_length)"
   ]
  },
  {
   "cell_type": "code",
   "execution_count": 11,
   "id": "8176c88b",
   "metadata": {},
   "outputs": [],
   "source": [
    "train_size = int(0.7 * len(X))\n",
    "val_size = int(0.2 * len(X))\n",
    "X_train, y_train = X[:train_size], y[:train_size]\n",
    "X_val, y_val = X[train_size:train_size+val_size], y[train_size:train_size+val_size]\n",
    "X_test, y_test = X[train_size+val_size:], y[train_size+val_size:]"
   ]
  },
  {
   "cell_type": "code",
   "execution_count": 12,
   "id": "5e3c54f0",
   "metadata": {},
   "outputs": [],
   "source": [
    "\n",
    "model = Sequential()\n",
    "model.add(LSTM(64, input_shape=(sequence_length, 1), return_sequences=True))\n",
    "model.add(Dropout(0.2))\n",
    "model.add(LSTM(64, return_sequences=True))\n",
    "model.add(Dropout(0.2))\n",
    "model.add(LSTM(64, return_sequences=False))  \n",
    "model.add(Dropout(0.2))\n",
    "model.add(Dense(32, activation='relu'))  \n",
    "model.add(Dense(1, activation='linear'))\n",
    "\n",
    "model.compile(optimizer='adam', loss='mean_squared_error')"
   ]
  },
  {
   "cell_type": "code",
   "execution_count": 13,
   "id": "a0933569",
   "metadata": {},
   "outputs": [
    {
     "name": "stdout",
     "output_type": "stream",
     "text": [
      "Epoch 1/50\n",
      "2/2 [==============================] - 4s 599ms/step - loss: 0.8834 - val_loss: 0.0024\n",
      "Epoch 2/50\n",
      "2/2 [==============================] - 0s 27ms/step - loss: 0.8805 - val_loss: 0.0020\n",
      "Epoch 3/50\n",
      "2/2 [==============================] - 0s 26ms/step - loss: 0.8743 - val_loss: 0.0030\n",
      "Epoch 4/50\n",
      "2/2 [==============================] - 0s 26ms/step - loss: 0.8740 - val_loss: 0.0051\n",
      "Epoch 5/50\n",
      "2/2 [==============================] - 0s 23ms/step - loss: 0.8717 - val_loss: 0.0091\n",
      "Epoch 6/50\n",
      "2/2 [==============================] - 0s 25ms/step - loss: 0.8717 - val_loss: 0.0096\n",
      "Epoch 7/50\n",
      "2/2 [==============================] - 0s 24ms/step - loss: 0.8707 - val_loss: 0.0096\n",
      "Epoch 8/50\n",
      "2/2 [==============================] - 0s 25ms/step - loss: 0.8708 - val_loss: 0.0091\n",
      "Epoch 9/50\n",
      "2/2 [==============================] - 0s 24ms/step - loss: 0.8711 - val_loss: 0.0082\n",
      "Epoch 10/50\n",
      "2/2 [==============================] - 0s 23ms/step - loss: 0.8691 - val_loss: 0.0084\n",
      "Epoch 11/50\n",
      "2/2 [==============================] - 0s 24ms/step - loss: 0.8757 - val_loss: 0.0066\n",
      "Epoch 12/50\n",
      "2/2 [==============================] - 0s 24ms/step - loss: 0.8768 - val_loss: 0.0058\n",
      "Epoch 13/50\n",
      "2/2 [==============================] - 0s 24ms/step - loss: 0.8712 - val_loss: 0.0047\n",
      "Epoch 14/50\n",
      "2/2 [==============================] - 0s 24ms/step - loss: 0.8703 - val_loss: 0.0034\n",
      "Epoch 15/50\n",
      "2/2 [==============================] - 0s 24ms/step - loss: 0.8722 - val_loss: 0.0030\n",
      "Epoch 16/50\n",
      "2/2 [==============================] - 0s 24ms/step - loss: 0.8701 - val_loss: 0.0037\n",
      "Epoch 17/50\n",
      "2/2 [==============================] - 0s 24ms/step - loss: 0.8743 - val_loss: 0.0042\n",
      "Epoch 18/50\n",
      "2/2 [==============================] - 0s 24ms/step - loss: 0.8758 - val_loss: 0.0038\n",
      "Epoch 19/50\n",
      "2/2 [==============================] - 0s 24ms/step - loss: 0.8696 - val_loss: 0.0041\n",
      "Epoch 20/50\n",
      "2/2 [==============================] - 0s 24ms/step - loss: 0.8704 - val_loss: 0.0041\n",
      "Epoch 21/50\n",
      "2/2 [==============================] - 0s 25ms/step - loss: 0.8636 - val_loss: 0.0040\n",
      "Epoch 22/50\n",
      "2/2 [==============================] - 0s 24ms/step - loss: 0.8775 - val_loss: 0.0033\n",
      "Epoch 23/50\n",
      "2/2 [==============================] - 0s 25ms/step - loss: 0.8646 - val_loss: 0.0028\n",
      "Epoch 24/50\n",
      "2/2 [==============================] - 0s 24ms/step - loss: 0.8726 - val_loss: 0.0024\n",
      "Epoch 25/50\n",
      "2/2 [==============================] - 0s 24ms/step - loss: 0.8679 - val_loss: 0.0021\n",
      "Epoch 26/50\n",
      "2/2 [==============================] - 0s 23ms/step - loss: 0.8701 - val_loss: 0.0021\n",
      "Epoch 27/50\n",
      "2/2 [==============================] - 0s 50ms/step - loss: 0.8742 - val_loss: 0.0022\n",
      "Epoch 28/50\n",
      "2/2 [==============================] - 0s 25ms/step - loss: 0.8692 - val_loss: 0.0023\n",
      "Epoch 29/50\n",
      "2/2 [==============================] - 0s 25ms/step - loss: 0.8708 - val_loss: 0.0025\n",
      "Epoch 30/50\n",
      "2/2 [==============================] - 0s 25ms/step - loss: 0.8710 - val_loss: 0.0026\n",
      "Epoch 31/50\n",
      "2/2 [==============================] - 0s 26ms/step - loss: 0.8652 - val_loss: 0.0029\n",
      "Epoch 32/50\n",
      "2/2 [==============================] - 0s 25ms/step - loss: 0.8599 - val_loss: 0.0038\n",
      "Epoch 33/50\n",
      "2/2 [==============================] - 0s 25ms/step - loss: 0.8668 - val_loss: 0.0042\n",
      "Epoch 34/50\n",
      "2/2 [==============================] - 0s 24ms/step - loss: 0.8654 - val_loss: 0.0039\n",
      "Epoch 35/50\n",
      "2/2 [==============================] - 0s 24ms/step - loss: 0.8716 - val_loss: 0.0033\n",
      "Epoch 36/50\n",
      "2/2 [==============================] - 0s 25ms/step - loss: 0.8671 - val_loss: 0.0028\n",
      "Epoch 37/50\n",
      "2/2 [==============================] - 0s 25ms/step - loss: 0.8639 - val_loss: 0.0032\n",
      "Epoch 38/50\n",
      "2/2 [==============================] - 0s 24ms/step - loss: 0.8624 - val_loss: 0.0046\n",
      "Epoch 39/50\n",
      "2/2 [==============================] - 0s 24ms/step - loss: 0.8512 - val_loss: 0.0053\n",
      "Epoch 40/50\n",
      "2/2 [==============================] - 0s 26ms/step - loss: 0.8514 - val_loss: 0.0062\n",
      "Epoch 41/50\n",
      "2/2 [==============================] - 0s 26ms/step - loss: 0.8502 - val_loss: 0.0074\n",
      "Epoch 42/50\n",
      "2/2 [==============================] - 0s 25ms/step - loss: 0.8586 - val_loss: 0.0037\n",
      "Epoch 43/50\n",
      "2/2 [==============================] - 0s 25ms/step - loss: 0.8384 - val_loss: 0.0041\n",
      "Epoch 44/50\n",
      "2/2 [==============================] - 0s 24ms/step - loss: 0.8378 - val_loss: 0.0059\n",
      "Epoch 45/50\n",
      "2/2 [==============================] - 0s 24ms/step - loss: 0.8390 - val_loss: 0.0075\n",
      "Epoch 46/50\n",
      "2/2 [==============================] - 0s 25ms/step - loss: 0.8368 - val_loss: 0.0050\n",
      "Epoch 47/50\n",
      "2/2 [==============================] - 0s 24ms/step - loss: 0.8389 - val_loss: 0.0123\n",
      "Epoch 48/50\n",
      "2/2 [==============================] - 0s 25ms/step - loss: 0.8192 - val_loss: 0.0128\n",
      "Epoch 49/50\n",
      "2/2 [==============================] - 0s 25ms/step - loss: 0.8483 - val_loss: 0.0044\n",
      "Epoch 50/50\n",
      "2/2 [==============================] - 0s 24ms/step - loss: 0.8211 - val_loss: 0.0079\n",
      "1/1 [==============================] - 1s 562ms/step\n",
      "Mean Squared Error on Test Set: 0.002171476567392119\n"
     ]
    }
   ],
   "source": [
    "model.fit(X_train, y_train, epochs=50, batch_size=64, validation_data=(X_val, y_val))\n",
    "\n",
    "y_pred = model.predict(X_test)\n",
    "\n",
    "mse = mean_squared_error(y_test, y_pred)\n",
    "print(f\"Mean Squared Error on Test Set: {mse}\")"
   ]
  },
  {
   "cell_type": "code",
   "execution_count": null,
   "id": "974098c5",
   "metadata": {},
   "outputs": [],
   "source": []
  }
 ],
 "metadata": {
  "kernelspec": {
   "display_name": "Python 3 (ipykernel)",
   "language": "python",
   "name": "python3"
  },
  "language_info": {
   "codemirror_mode": {
    "name": "ipython",
    "version": 3
   },
   "file_extension": ".py",
   "mimetype": "text/x-python",
   "name": "python",
   "nbconvert_exporter": "python",
   "pygments_lexer": "ipython3",
   "version": "3.11.4"
  }
 },
 "nbformat": 4,
 "nbformat_minor": 5
}
